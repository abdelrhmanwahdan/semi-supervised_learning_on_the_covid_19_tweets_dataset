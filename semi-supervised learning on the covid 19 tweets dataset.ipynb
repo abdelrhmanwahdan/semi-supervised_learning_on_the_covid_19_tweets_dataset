{
 "cells": [
  {
   "cell_type": "markdown",
   "id": "e8ce0434",
   "metadata": {},
   "source": [
    "## Importing the libraries"
   ]
  },
  {
   "cell_type": "code",
   "execution_count": 1,
   "id": "afaf4099",
   "metadata": {
    "execution": {
     "iopub.execute_input": "2022-02-26T15:45:03.931601Z",
     "iopub.status.busy": "2022-02-26T15:45:03.930423Z",
     "iopub.status.idle": "2022-02-26T15:45:12.759140Z",
     "shell.execute_reply": "2022-02-26T15:45:12.758266Z",
     "shell.execute_reply.started": "2022-02-26T15:23:45.897651Z"
    },
    "papermill": {
     "duration": 8.859981,
     "end_time": "2022-02-26T15:45:12.759321",
     "exception": false,
     "start_time": "2022-02-26T15:45:03.899340",
     "status": "completed"
    },
    "tags": []
   },
   "outputs": [],
   "source": [
    "import numpy as np \n",
    "import pandas as pd\n",
    "import plotly.express as px\n",
    "import unidecode\n",
    "\n",
    "from tensorflow import keras\n",
    "from keras.preprocessing.text import text_to_word_sequence\n",
    "\n",
    "import numpy as np\n",
    "from sklearn.datasets import fetch_20newsgroups\n",
    "from sklearn.preprocessing import FunctionTransformer\n",
    "from sklearn.semi_supervised import LabelSpreading , LabelPropagation\n",
    "from sklearn.model_selection import train_test_split\n",
    "from sklearn.pipeline import Pipeline\n",
    "from sklearn.metrics import f1_score,accuracy_score\n",
    "from simcse import SimCSE\n",
    "import re\n",
    "import string\n",
    "import nltk \n",
    "from sklearn.linear_model import SGDClassifier\n",
    "import pandas as pd\n",
    "import torch"
   ]
  },
  {
   "cell_type": "markdown",
   "id": "82154087",
   "metadata": {},
   "source": [
    "## Importing the dataset"
   ]
  },
  {
   "cell_type": "code",
   "execution_count": 2,
   "id": "4065cbe7",
   "metadata": {
    "execution": {
     "iopub.execute_input": "2022-02-26T15:45:12.818650Z",
     "iopub.status.busy": "2022-02-26T15:45:12.817944Z",
     "iopub.status.idle": "2022-02-26T15:45:13.248303Z",
     "shell.execute_reply": "2022-02-26T15:45:13.247677Z",
     "shell.execute_reply.started": "2022-02-26T15:23:55.185007Z"
    },
    "papermill": {
     "duration": 0.459926,
     "end_time": "2022-02-26T15:45:13.248461",
     "exception": false,
     "start_time": "2022-02-26T15:45:12.788535",
     "status": "completed"
    },
    "tags": []
   },
   "outputs": [],
   "source": [
    "train = pd.read_csv(\"dataset/clean_train.csv\", encoding='latin-1')\n",
    "test = pd.read_csv(\"dataset/clean_test.csv\", encoding='latin-1')"
   ]
  },
  {
   "cell_type": "code",
   "execution_count": 3,
   "id": "cd7c37bf",
   "metadata": {
    "execution": {
     "iopub.execute_input": "2022-02-26T15:45:13.305878Z",
     "iopub.status.busy": "2022-02-26T15:45:13.305222Z",
     "iopub.status.idle": "2022-02-26T15:45:13.309533Z",
     "shell.execute_reply": "2022-02-26T15:45:13.310133Z",
     "shell.execute_reply.started": "2022-02-26T15:23:55.504342Z"
    },
    "papermill": {
     "duration": 0.03434,
     "end_time": "2022-02-26T15:45:13.310304",
     "exception": false,
     "start_time": "2022-02-26T15:45:13.275964",
     "status": "completed"
    },
    "tags": []
   },
   "outputs": [
    {
     "name": "stdout",
     "output_type": "stream",
     "text": [
      "(41157, 6)\n",
      "(41157, 6)\n"
     ]
    }
   ],
   "source": [
    "print(train.shape)\n",
    "print(test.shape)"
   ]
  },
  {
   "cell_type": "code",
   "execution_count": 4,
   "id": "0a4060d5",
   "metadata": {
    "execution": {
     "iopub.execute_input": "2022-02-26T15:45:13.368096Z",
     "iopub.status.busy": "2022-02-26T15:45:13.367486Z",
     "iopub.status.idle": "2022-02-26T15:45:13.387315Z",
     "shell.execute_reply": "2022-02-26T15:45:13.387796Z",
     "shell.execute_reply.started": "2022-02-26T15:23:55.512244Z"
    },
    "papermill": {
     "duration": 0.05003,
     "end_time": "2022-02-26T15:45:13.387954",
     "exception": false,
     "start_time": "2022-02-26T15:45:13.337924",
     "status": "completed"
    },
    "tags": []
   },
   "outputs": [
    {
     "data": {
      "text/html": [
       "<div>\n",
       "<style scoped>\n",
       "    .dataframe tbody tr th:only-of-type {\n",
       "        vertical-align: middle;\n",
       "    }\n",
       "\n",
       "    .dataframe tbody tr th {\n",
       "        vertical-align: top;\n",
       "    }\n",
       "\n",
       "    .dataframe thead th {\n",
       "        text-align: right;\n",
       "    }\n",
       "</style>\n",
       "<table border=\"1\" class=\"dataframe\">\n",
       "  <thead>\n",
       "    <tr style=\"text-align: right;\">\n",
       "      <th></th>\n",
       "      <th>UserName</th>\n",
       "      <th>ScreenName</th>\n",
       "      <th>TweetAt</th>\n",
       "      <th>OriginalTweet</th>\n",
       "      <th>Sentiment</th>\n",
       "      <th>label</th>\n",
       "    </tr>\n",
       "  </thead>\n",
       "  <tbody>\n",
       "    <tr>\n",
       "      <th>0</th>\n",
       "      <td>3799</td>\n",
       "      <td>48751</td>\n",
       "      <td>16-03-2020</td>\n",
       "      <td>menyrbi phil gahan chrisitv http ifzfanpa http...</td>\n",
       "      <td>Neutral</td>\n",
       "      <td>0</td>\n",
       "    </tr>\n",
       "    <tr>\n",
       "      <th>1</th>\n",
       "      <td>3800</td>\n",
       "      <td>48752</td>\n",
       "      <td>16-03-2020</td>\n",
       "      <td>advic talk neighbour famili exchang phone numb...</td>\n",
       "      <td>Positive</td>\n",
       "      <td>1</td>\n",
       "    </tr>\n",
       "    <tr>\n",
       "      <th>2</th>\n",
       "      <td>3801</td>\n",
       "      <td>48753</td>\n",
       "      <td>16-03-2020</td>\n",
       "      <td>coronaviru australia woolworth elderli disabl ...</td>\n",
       "      <td>Positive</td>\n",
       "      <td>1</td>\n",
       "    </tr>\n",
       "    <tr>\n",
       "      <th>3</th>\n",
       "      <td>3802</td>\n",
       "      <td>48754</td>\n",
       "      <td>16-03-2020</td>\n",
       "      <td>food stock dont panic food need stay calm stay...</td>\n",
       "      <td>Positive</td>\n",
       "      <td>1</td>\n",
       "    </tr>\n",
       "    <tr>\n",
       "      <th>4</th>\n",
       "      <td>3803</td>\n",
       "      <td>48755</td>\n",
       "      <td>16-03-2020</td>\n",
       "      <td>readi supermarket covid outbreak im paranoid f...</td>\n",
       "      <td>Extremely Negative</td>\n",
       "      <td>2</td>\n",
       "    </tr>\n",
       "  </tbody>\n",
       "</table>\n",
       "</div>"
      ],
      "text/plain": [
       "   UserName  ScreenName     TweetAt  \\\n",
       "0      3799       48751  16-03-2020   \n",
       "1      3800       48752  16-03-2020   \n",
       "2      3801       48753  16-03-2020   \n",
       "3      3802       48754  16-03-2020   \n",
       "4      3803       48755  16-03-2020   \n",
       "\n",
       "                                       OriginalTweet           Sentiment  \\\n",
       "0  menyrbi phil gahan chrisitv http ifzfanpa http...             Neutral   \n",
       "1  advic talk neighbour famili exchang phone numb...            Positive   \n",
       "2  coronaviru australia woolworth elderli disabl ...            Positive   \n",
       "3  food stock dont panic food need stay calm stay...            Positive   \n",
       "4  readi supermarket covid outbreak im paranoid f...  Extremely Negative   \n",
       "\n",
       "   label  \n",
       "0      0  \n",
       "1      1  \n",
       "2      1  \n",
       "3      1  \n",
       "4      2  "
      ]
     },
     "execution_count": 4,
     "metadata": {},
     "output_type": "execute_result"
    }
   ],
   "source": [
    "train.head()"
   ]
  },
  {
   "cell_type": "code",
   "execution_count": 5,
   "id": "3d6e1130",
   "metadata": {
    "execution": {
     "iopub.execute_input": "2022-02-26T15:45:13.590531Z",
     "iopub.status.busy": "2022-02-26T15:45:13.589522Z",
     "iopub.status.idle": "2022-02-26T15:45:13.609431Z",
     "shell.execute_reply": "2022-02-26T15:45:13.609987Z",
     "shell.execute_reply.started": "2022-02-26T15:23:55.571829Z"
    },
    "papermill": {
     "duration": 0.051494,
     "end_time": "2022-02-26T15:45:13.610191",
     "exception": false,
     "start_time": "2022-02-26T15:45:13.558697",
     "status": "completed"
    },
    "tags": []
   },
   "outputs": [
    {
     "data": {
      "text/html": [
       "<div>\n",
       "<style scoped>\n",
       "    .dataframe tbody tr th:only-of-type {\n",
       "        vertical-align: middle;\n",
       "    }\n",
       "\n",
       "    .dataframe tbody tr th {\n",
       "        vertical-align: top;\n",
       "    }\n",
       "\n",
       "    .dataframe thead th {\n",
       "        text-align: right;\n",
       "    }\n",
       "</style>\n",
       "<table border=\"1\" class=\"dataframe\">\n",
       "  <thead>\n",
       "    <tr style=\"text-align: right;\">\n",
       "      <th></th>\n",
       "      <th>OriginalTweet</th>\n",
       "      <th>Sentiment</th>\n",
       "    </tr>\n",
       "  </thead>\n",
       "  <tbody>\n",
       "    <tr>\n",
       "      <th>0</th>\n",
       "      <td>menyrbi phil gahan chrisitv http ifzfanpa http...</td>\n",
       "      <td>Neutral</td>\n",
       "    </tr>\n",
       "    <tr>\n",
       "      <th>1</th>\n",
       "      <td>advic talk neighbour famili exchang phone numb...</td>\n",
       "      <td>Positive</td>\n",
       "    </tr>\n",
       "    <tr>\n",
       "      <th>2</th>\n",
       "      <td>coronaviru australia woolworth elderli disabl ...</td>\n",
       "      <td>Positive</td>\n",
       "    </tr>\n",
       "    <tr>\n",
       "      <th>3</th>\n",
       "      <td>food stock dont panic food need stay calm stay...</td>\n",
       "      <td>Positive</td>\n",
       "    </tr>\n",
       "    <tr>\n",
       "      <th>4</th>\n",
       "      <td>readi supermarket covid outbreak im paranoid f...</td>\n",
       "      <td>Extremely Negative</td>\n",
       "    </tr>\n",
       "  </tbody>\n",
       "</table>\n",
       "</div>"
      ],
      "text/plain": [
       "                                       OriginalTweet           Sentiment\n",
       "0  menyrbi phil gahan chrisitv http ifzfanpa http...             Neutral\n",
       "1  advic talk neighbour famili exchang phone numb...            Positive\n",
       "2  coronaviru australia woolworth elderli disabl ...            Positive\n",
       "3  food stock dont panic food need stay calm stay...            Positive\n",
       "4  readi supermarket covid outbreak im paranoid f...  Extremely Negative"
      ]
     },
     "execution_count": 5,
     "metadata": {},
     "output_type": "execute_result"
    }
   ],
   "source": [
    "train = train.drop(columns = ['TweetAt','ScreenName','UserName','label'])\n",
    "train.head()"
   ]
  },
  {
   "cell_type": "code",
   "execution_count": 6,
   "id": "fb15b671",
   "metadata": {},
   "outputs": [
    {
     "data": {
      "text/html": [
       "<div>\n",
       "<style scoped>\n",
       "    .dataframe tbody tr th:only-of-type {\n",
       "        vertical-align: middle;\n",
       "    }\n",
       "\n",
       "    .dataframe tbody tr th {\n",
       "        vertical-align: top;\n",
       "    }\n",
       "\n",
       "    .dataframe thead th {\n",
       "        text-align: right;\n",
       "    }\n",
       "</style>\n",
       "<table border=\"1\" class=\"dataframe\">\n",
       "  <thead>\n",
       "    <tr style=\"text-align: right;\">\n",
       "      <th></th>\n",
       "      <th>OriginalTweet</th>\n",
       "      <th>Sentiment</th>\n",
       "    </tr>\n",
       "  </thead>\n",
       "  <tbody>\n",
       "    <tr>\n",
       "      <th>0</th>\n",
       "      <td>menyrbi phil gahan chrisitv http ifzfanpa http...</td>\n",
       "      <td>Neutral</td>\n",
       "    </tr>\n",
       "    <tr>\n",
       "      <th>1</th>\n",
       "      <td>advic talk neighbour famili exchang phone numb...</td>\n",
       "      <td>Positive</td>\n",
       "    </tr>\n",
       "    <tr>\n",
       "      <th>2</th>\n",
       "      <td>coronaviru australia woolworth elderli disabl ...</td>\n",
       "      <td>Positive</td>\n",
       "    </tr>\n",
       "    <tr>\n",
       "      <th>3</th>\n",
       "      <td>food stock dont panic food need stay calm stay...</td>\n",
       "      <td>Positive</td>\n",
       "    </tr>\n",
       "    <tr>\n",
       "      <th>4</th>\n",
       "      <td>readi supermarket covid outbreak im paranoid f...</td>\n",
       "      <td>Extremely Negative</td>\n",
       "    </tr>\n",
       "  </tbody>\n",
       "</table>\n",
       "</div>"
      ],
      "text/plain": [
       "                                       OriginalTweet           Sentiment\n",
       "0  menyrbi phil gahan chrisitv http ifzfanpa http...             Neutral\n",
       "1  advic talk neighbour famili exchang phone numb...            Positive\n",
       "2  coronaviru australia woolworth elderli disabl ...            Positive\n",
       "3  food stock dont panic food need stay calm stay...            Positive\n",
       "4  readi supermarket covid outbreak im paranoid f...  Extremely Negative"
      ]
     },
     "execution_count": 6,
     "metadata": {},
     "output_type": "execute_result"
    }
   ],
   "source": [
    "test = test.drop(columns = ['TweetAt','ScreenName','UserName','label'])\n",
    "test.head()"
   ]
  },
  {
   "cell_type": "code",
   "execution_count": 7,
   "id": "dc0c538f",
   "metadata": {
    "execution": {
     "iopub.execute_input": "2022-02-26T15:45:13.808004Z",
     "iopub.status.busy": "2022-02-26T15:45:13.807062Z",
     "iopub.status.idle": "2022-02-26T15:45:13.820733Z",
     "shell.execute_reply": "2022-02-26T15:45:13.821254Z",
     "shell.execute_reply.started": "2022-02-26T15:23:55.610966Z"
    },
    "papermill": {
     "duration": 0.046924,
     "end_time": "2022-02-26T15:45:13.821423",
     "exception": false,
     "start_time": "2022-02-26T15:45:13.774499",
     "status": "completed"
    },
    "tags": []
   },
   "outputs": [
    {
     "data": {
      "text/plain": [
       "(array(['Neutral', 'Positive', 'Extremely Negative', 'Negative',\n",
       "        'Extremely Positive'], dtype=object),\n",
       " 5)"
      ]
     },
     "execution_count": 7,
     "metadata": {},
     "output_type": "execute_result"
    }
   ],
   "source": [
    "train['Sentiment'].unique(), train['Sentiment'].nunique()"
   ]
  },
  {
   "cell_type": "markdown",
   "id": "3e845b13",
   "metadata": {
    "papermill": {
     "duration": 0.029537,
     "end_time": "2022-02-26T15:45:13.880417",
     "exception": false,
     "start_time": "2022-02-26T15:45:13.850880",
     "status": "completed"
    },
    "tags": []
   },
   "source": [
    "> **Sentiment categorize in 5 types, so basically we assign a number to each type so we insight our data.**"
   ]
  },
  {
   "cell_type": "code",
   "execution_count": 8,
   "id": "4e61ec9e",
   "metadata": {
    "execution": {
     "iopub.execute_input": "2022-02-26T15:45:14.017336Z",
     "iopub.status.busy": "2022-02-26T15:45:14.016669Z",
     "iopub.status.idle": "2022-02-26T15:45:14.029269Z",
     "shell.execute_reply": "2022-02-26T15:45:14.029720Z",
     "shell.execute_reply.started": "2022-02-26T15:23:55.639975Z"
    },
    "papermill": {
     "duration": 0.046487,
     "end_time": "2022-02-26T15:45:14.029886",
     "exception": false,
     "start_time": "2022-02-26T15:45:13.983399",
     "status": "completed"
    },
    "tags": []
   },
   "outputs": [],
   "source": [
    "labels = {'Sentiment': {'Extremely Negative': 1, 'Negative': 2,\n",
    "                        'Neutral': 3, 'Positive':4, 'Extremely Positive':5}}\n",
    "train.replace(labels , inplace = True)\n",
    "test.replace(labels , inplace = True)"
   ]
  },
  {
   "cell_type": "code",
   "execution_count": 9,
   "id": "42a561d1",
   "metadata": {},
   "outputs": [
    {
     "data": {
      "text/html": [
       "<div>\n",
       "<style scoped>\n",
       "    .dataframe tbody tr th:only-of-type {\n",
       "        vertical-align: middle;\n",
       "    }\n",
       "\n",
       "    .dataframe tbody tr th {\n",
       "        vertical-align: top;\n",
       "    }\n",
       "\n",
       "    .dataframe thead th {\n",
       "        text-align: right;\n",
       "    }\n",
       "</style>\n",
       "<table border=\"1\" class=\"dataframe\">\n",
       "  <thead>\n",
       "    <tr style=\"text-align: right;\">\n",
       "      <th></th>\n",
       "      <th>OriginalTweet</th>\n",
       "      <th>Sentiment</th>\n",
       "    </tr>\n",
       "  </thead>\n",
       "  <tbody>\n",
       "    <tr>\n",
       "      <th>0</th>\n",
       "      <td>menyrbi phil gahan chrisitv http ifzfanpa http...</td>\n",
       "      <td>3</td>\n",
       "    </tr>\n",
       "    <tr>\n",
       "      <th>1</th>\n",
       "      <td>advic talk neighbour famili exchang phone numb...</td>\n",
       "      <td>4</td>\n",
       "    </tr>\n",
       "    <tr>\n",
       "      <th>2</th>\n",
       "      <td>coronaviru australia woolworth elderli disabl ...</td>\n",
       "      <td>4</td>\n",
       "    </tr>\n",
       "    <tr>\n",
       "      <th>3</th>\n",
       "      <td>food stock dont panic food need stay calm stay...</td>\n",
       "      <td>4</td>\n",
       "    </tr>\n",
       "    <tr>\n",
       "      <th>4</th>\n",
       "      <td>readi supermarket covid outbreak im paranoid f...</td>\n",
       "      <td>1</td>\n",
       "    </tr>\n",
       "  </tbody>\n",
       "</table>\n",
       "</div>"
      ],
      "text/plain": [
       "                                       OriginalTweet  Sentiment\n",
       "0  menyrbi phil gahan chrisitv http ifzfanpa http...          3\n",
       "1  advic talk neighbour famili exchang phone numb...          4\n",
       "2  coronaviru australia woolworth elderli disabl ...          4\n",
       "3  food stock dont panic food need stay calm stay...          4\n",
       "4  readi supermarket covid outbreak im paranoid f...          1"
      ]
     },
     "execution_count": 9,
     "metadata": {},
     "output_type": "execute_result"
    }
   ],
   "source": [
    "train.head()"
   ]
  },
  {
   "cell_type": "code",
   "execution_count": 10,
   "id": "f3ee4a03",
   "metadata": {},
   "outputs": [
    {
     "data": {
      "text/html": [
       "<div>\n",
       "<style scoped>\n",
       "    .dataframe tbody tr th:only-of-type {\n",
       "        vertical-align: middle;\n",
       "    }\n",
       "\n",
       "    .dataframe tbody tr th {\n",
       "        vertical-align: top;\n",
       "    }\n",
       "\n",
       "    .dataframe thead th {\n",
       "        text-align: right;\n",
       "    }\n",
       "</style>\n",
       "<table border=\"1\" class=\"dataframe\">\n",
       "  <thead>\n",
       "    <tr style=\"text-align: right;\">\n",
       "      <th></th>\n",
       "      <th>OriginalTweet</th>\n",
       "      <th>Sentiment</th>\n",
       "    </tr>\n",
       "  </thead>\n",
       "  <tbody>\n",
       "    <tr>\n",
       "      <th>0</th>\n",
       "      <td>menyrbi phil gahan chrisitv http ifzfanpa http...</td>\n",
       "      <td>3</td>\n",
       "    </tr>\n",
       "    <tr>\n",
       "      <th>1</th>\n",
       "      <td>advic talk neighbour famili exchang phone numb...</td>\n",
       "      <td>4</td>\n",
       "    </tr>\n",
       "    <tr>\n",
       "      <th>2</th>\n",
       "      <td>coronaviru australia woolworth elderli disabl ...</td>\n",
       "      <td>4</td>\n",
       "    </tr>\n",
       "    <tr>\n",
       "      <th>3</th>\n",
       "      <td>food stock dont panic food need stay calm stay...</td>\n",
       "      <td>4</td>\n",
       "    </tr>\n",
       "    <tr>\n",
       "      <th>4</th>\n",
       "      <td>readi supermarket covid outbreak im paranoid f...</td>\n",
       "      <td>1</td>\n",
       "    </tr>\n",
       "  </tbody>\n",
       "</table>\n",
       "</div>"
      ],
      "text/plain": [
       "                                       OriginalTweet  Sentiment\n",
       "0  menyrbi phil gahan chrisitv http ifzfanpa http...          3\n",
       "1  advic talk neighbour famili exchang phone numb...          4\n",
       "2  coronaviru australia woolworth elderli disabl ...          4\n",
       "3  food stock dont panic food need stay calm stay...          4\n",
       "4  readi supermarket covid outbreak im paranoid f...          1"
      ]
     },
     "execution_count": 10,
     "metadata": {},
     "output_type": "execute_result"
    }
   ],
   "source": [
    "test.head()"
   ]
  },
  {
   "cell_type": "markdown",
   "id": "65d895cc",
   "metadata": {
    "papermill": {
     "duration": 0.029984,
     "end_time": "2022-02-26T15:45:14.090206",
     "exception": false,
     "start_time": "2022-02-26T15:45:14.060222",
     "status": "completed"
    },
    "tags": []
   },
   "source": [
    "> **So I labeled the data as:**\n",
    "* 1 - Extremely Negative\n",
    "* 2 - Negative\n",
    "* 3 - Neutral\n",
    "* 4 - Positive\n",
    "* 5 - Extremely Positive\n"
   ]
  },
  {
   "cell_type": "markdown",
   "id": "bc9e0883",
   "metadata": {},
   "source": [
    "## data cleaning"
   ]
  },
  {
   "cell_type": "code",
   "execution_count": 11,
   "id": "2f310b6a",
   "metadata": {},
   "outputs": [],
   "source": [
    "# removing emails from the text\n",
    "def remove_emails(text):\n",
    "    text = re.sub('\\S*@\\S*\\s?', '', text)\n",
    "    return text\n",
    "\n",
    "# remove duplicate spaces and new lines\n",
    "def remove_spaces(text):\n",
    "    text = [\" \".join(re.split(\"\\s+\", word, flags=re.UNICODE)) for word in text]\n",
    "    return text\n",
    "\n",
    "# removing punctuations\n",
    "def remove_punct(text):\n",
    "    text  = \"\".join([char for char in text if char not in string.punctuation])\n",
    "    text = re.sub('[0-9]+', '', text)\n",
    "    return text\n",
    "\n",
    "\n",
    "    \n",
    "# tokenization\n",
    "def tokenization(text):\n",
    "    text = re.split('\\W+', text)\n",
    "    return text\n",
    "\n",
    "# removing stopwords\n",
    "def remove_stopwords(text):\n",
    "    stopword = nltk.corpus.stopwords.words('english')\n",
    "    text = [word for word in text if word not in stopword]\n",
    "    return text\n",
    "\n",
    "# texting Lemmitization\n",
    "def lemmatizer(text):\n",
    "    wn = nltk.WordNetLemmatizer()\n",
    "    text = [wn.lemmatize(word) for word in text]\n",
    "    return text"
   ]
  },
  {
   "cell_type": "code",
   "execution_count": 12,
   "id": "aa1698a4",
   "metadata": {},
   "outputs": [],
   "source": [
    "def clean_text(text):\n",
    "    text = str(text)\n",
    "    # convert the text to lowercase\n",
    "    text_lower = text.lower() \n",
    "    \n",
    "    # removing emails from the text\n",
    "    text_without_emails = remove_emails(text_lower)\n",
    "    \n",
    "    # remove duplicate spaces and new lines\n",
    "    text_without_spaces = remove_spaces(text_without_emails)\n",
    "    \n",
    "    # remove punctuation\n",
    "    text_without_punctuations = remove_punct(text_without_spaces)\n",
    "    \n",
    "    # text tokenization\n",
    "    tokens = tokenization(text_without_punctuations)   \n",
    "    \n",
    "    # removing stopwords \n",
    "    text_without_stopwords = remove_stopwords(tokens)\n",
    "    \n",
    "    # text Lemmitization\n",
    "    text_clean = lemmatizer(text_without_stopwords)\n",
    "    \n",
    "    return \" \".join(text_clean)"
   ]
  },
  {
   "cell_type": "code",
   "execution_count": 13,
   "id": "11f7eafe",
   "metadata": {},
   "outputs": [
    {
     "data": {
      "text/plain": [
       "'coronaviru australia woolworth elderli disabl dedic shop hour amid covid outbreak http bincavpp'"
      ]
     },
     "execution_count": 13,
     "metadata": {},
     "output_type": "execute_result"
    }
   ],
   "source": [
    "train['OriginalTweet'][2]"
   ]
  },
  {
   "cell_type": "code",
   "execution_count": 14,
   "id": "fc2a77e0",
   "metadata": {},
   "outputs": [
    {
     "data": {
      "text/plain": [
       "OriginalTweet    object\n",
       "Sentiment         int64\n",
       "dtype: object"
      ]
     },
     "execution_count": 14,
     "metadata": {},
     "output_type": "execute_result"
    }
   ],
   "source": [
    "train.dtypes"
   ]
  },
  {
   "cell_type": "code",
   "execution_count": 15,
   "id": "cdffa575",
   "metadata": {},
   "outputs": [],
   "source": [
    "train['OriginalTweet'] = train['OriginalTweet'].map(clean_text)\n",
    "test['OriginalTweet'] = test['OriginalTweet'].map(clean_text)"
   ]
  },
  {
   "cell_type": "code",
   "execution_count": 16,
   "id": "f96d2f06",
   "metadata": {},
   "outputs": [
    {
     "data": {
      "text/html": [
       "<div>\n",
       "<style scoped>\n",
       "    .dataframe tbody tr th:only-of-type {\n",
       "        vertical-align: middle;\n",
       "    }\n",
       "\n",
       "    .dataframe tbody tr th {\n",
       "        vertical-align: top;\n",
       "    }\n",
       "\n",
       "    .dataframe thead th {\n",
       "        text-align: right;\n",
       "    }\n",
       "</style>\n",
       "<table border=\"1\" class=\"dataframe\">\n",
       "  <thead>\n",
       "    <tr style=\"text-align: right;\">\n",
       "      <th></th>\n",
       "      <th>OriginalTweet</th>\n",
       "      <th>Sentiment</th>\n",
       "    </tr>\n",
       "  </thead>\n",
       "  <tbody>\n",
       "    <tr>\n",
       "      <th>0</th>\n",
       "      <td>menyrbi phil gahan chrisitv http ifzfanpa http...</td>\n",
       "      <td>3</td>\n",
       "    </tr>\n",
       "    <tr>\n",
       "      <th>1</th>\n",
       "      <td>advic talk neighbour famili exchang phone numb...</td>\n",
       "      <td>4</td>\n",
       "    </tr>\n",
       "    <tr>\n",
       "      <th>2</th>\n",
       "      <td>coronaviru australia woolworth elderli disabl ...</td>\n",
       "      <td>4</td>\n",
       "    </tr>\n",
       "    <tr>\n",
       "      <th>3</th>\n",
       "      <td>food stock dont panic food need stay calm stay...</td>\n",
       "      <td>4</td>\n",
       "    </tr>\n",
       "    <tr>\n",
       "      <th>4</th>\n",
       "      <td>readi supermarket covid outbreak im paranoid f...</td>\n",
       "      <td>1</td>\n",
       "    </tr>\n",
       "  </tbody>\n",
       "</table>\n",
       "</div>"
      ],
      "text/plain": [
       "                                       OriginalTweet  Sentiment\n",
       "0  menyrbi phil gahan chrisitv http ifzfanpa http...          3\n",
       "1  advic talk neighbour famili exchang phone numb...          4\n",
       "2  coronaviru australia woolworth elderli disabl ...          4\n",
       "3  food stock dont panic food need stay calm stay...          4\n",
       "4  readi supermarket covid outbreak im paranoid f...          1"
      ]
     },
     "execution_count": 16,
     "metadata": {},
     "output_type": "execute_result"
    }
   ],
   "source": [
    "train.head()"
   ]
  },
  {
   "cell_type": "markdown",
   "id": "edf6cd9d",
   "metadata": {},
   "source": [
    "## Splitting the dataset"
   ]
  },
  {
   "cell_type": "code",
   "execution_count": 17,
   "id": "1d61f1f1",
   "metadata": {},
   "outputs": [],
   "source": [
    "X_train = list(train.OriginalTweet)\n",
    "X_test = list(test.OriginalTweet)\n",
    "y_train = list(train.Sentiment)\n",
    "y_test = list(test.Sentiment)"
   ]
  },
  {
   "cell_type": "markdown",
   "id": "44dd001b",
   "metadata": {},
   "source": [
    "## Creating the embeddings model and transforming the data"
   ]
  },
  {
   "cell_type": "code",
   "execution_count": 18,
   "id": "a2adc558",
   "metadata": {},
   "outputs": [
    {
     "name": "stderr",
     "output_type": "stream",
     "text": [
      "100%|█████████████████████████████████████████| 644/644 [06:06<00:00,  1.76it/s]\n",
      "100%|█████████████████████████████████████████| 644/644 [06:30<00:00,  1.65it/s]\n"
     ]
    }
   ],
   "source": [
    "# loading SimCSE embeddings model\n",
    "embeddings_model = SimCSE(\"princeton-nlp/sup-simcse-bert-base-uncased\")\n",
    "\n",
    "def encoding_with_embeddings(model,data):\n",
    "    embeddings = model.encode(data)\n",
    "    return embeddings\n",
    "X_train = encoding_with_embeddings(embeddings_model,X_train)\n",
    "X_test = encoding_with_embeddings(embeddings_model,X_test)"
   ]
  },
  {
   "cell_type": "markdown",
   "id": "e8465d2f",
   "metadata": {},
   "source": [
    "## Creating unlabeled data"
   ]
  },
  {
   "cell_type": "code",
   "execution_count": 19,
   "id": "0522dad1",
   "metadata": {},
   "outputs": [],
   "source": [
    "y_train = np.array(y_train)\n",
    "y_test = np.array(y_test)"
   ]
  },
  {
   "cell_type": "code",
   "execution_count": 20,
   "id": "9901d871",
   "metadata": {},
   "outputs": [
    {
     "name": "stdout",
     "output_type": "stream",
     "text": [
      "LabelSpreading on 20.0% of the data (rest is unlabeled):\n"
     ]
    }
   ],
   "source": [
    "# select a mask of 20% of the train dataset\n",
    "mask_percentage = 0.2\n",
    "y_mask = np.random.rand(len(y_train)) < mask_percentage\n",
    "\n",
    "y_train_unlabeled = y_train\n",
    "# set the non-masked subset to be unlabeled\n",
    "y_train_unlabeled[~y_mask] = -1\n",
    "\n",
    "print(f\"LabelSpreading on {mask_percentage*100}% of the data (rest is unlabeled):\")\n",
    "\n",
    "# X_20 and y_20 are the subset of the train dataset indicated by the mask\n",
    "X_20 = []\n",
    "y_20 = []\n",
    "for x, y in zip(X_test, y_train):\n",
    "    if y != -1:\n",
    "        X_20.append(x.tolist())\n",
    "        y_20.append(y.tolist())\n",
    "X_20 = torch.Tensor(X_20)\n",
    "y_20 = torch.Tensor(y_20)"
   ]
  },
  {
   "cell_type": "markdown",
   "id": "8fe7c8f2",
   "metadata": {},
   "source": [
    "## creating the machine learning models"
   ]
  },
  {
   "cell_type": "code",
   "execution_count": 21,
   "id": "469845b2",
   "metadata": {},
   "outputs": [],
   "source": [
    "# Label Propagation semi-supervised Model\n",
    "lp_model1 = LabelPropagation(kernel='knn')\n",
    "lp_model2 = LabelPropagation(kernel='rbf')\n",
    "\n",
    "\n",
    "\n",
    "\n",
    "# Label Spreading semi-supervised Model\n",
    "ls_model1 = LabelSpreading(kernel='knn')\n",
    "ls_model2 = LabelSpreading(kernel='rbf')\n",
    "\n",
    "\n",
    "# SGD supervised model\n",
    "sgd_model = SGDClassifier(alpha=1e-5, penalty=\"l2\", loss=\"log\")"
   ]
  },
  {
   "cell_type": "markdown",
   "id": "41c5f776",
   "metadata": {},
   "source": [
    "## Evaluating the models"
   ]
  },
  {
   "cell_type": "code",
   "execution_count": 22,
   "id": "a6faf295",
   "metadata": {},
   "outputs": [],
   "source": [
    "# function for training and evaluating each model\n",
    "def eval_and_print_metrics(clf, X_train, y_train, X_test, y_test):\n",
    "    print(\"Number of training samples:\", len(X_train))\n",
    "    print(\"Unlabeled samples in training set:\", sum(1 for x in y_train if x == -1))\n",
    "    \n",
    "    # training the model\n",
    "    clf.fit(X_train, y_train)\n",
    "    \n",
    "    # making predictions\n",
    "    y_pred = clf.predict(X_test)\n",
    "    print(\n",
    "        \"accuracy score on test set: %0.3f\"\n",
    "        % accuracy_score(y_test, y_pred)\n",
    "    )\n",
    "    print(\"-\" * 10)\n",
    "    print()"
   ]
  },
  {
   "cell_type": "markdown",
   "id": "a4bc1be7",
   "metadata": {},
   "source": [
    "### Label Propagation semi-supervised Model"
   ]
  },
  {
   "cell_type": "code",
   "execution_count": null,
   "id": "91ed7d82",
   "metadata": {
    "scrolled": false
   },
   "outputs": [],
   "source": [
    "eval_and_print_metrics(lp_model1, X_train, y_train_unlabeled, X_test, y_test)"
   ]
  },
  {
   "cell_type": "code",
   "execution_count": null,
   "id": "3ea2228f",
   "metadata": {},
   "outputs": [],
   "source": [
    "eval_and_print_metrics(lp_model2, X_train, y_train_unlabeled, X_test, y_test)"
   ]
  },
  {
   "cell_type": "code",
   "execution_count": null,
   "id": "08ec0351",
   "metadata": {},
   "outputs": [],
   "source": []
  },
  {
   "cell_type": "markdown",
   "id": "b2651913",
   "metadata": {},
   "source": [
    "### Label Spreading semi-supervised Model"
   ]
  },
  {
   "cell_type": "code",
   "execution_count": null,
   "id": "0b185d04",
   "metadata": {},
   "outputs": [],
   "source": [
    "eval_and_print_metrics(ls_model1, X_train, y_train_unlabeled, X_test, y_test)"
   ]
  },
  {
   "cell_type": "code",
   "execution_count": null,
   "id": "1edcfca3",
   "metadata": {},
   "outputs": [],
   "source": [
    "eval_and_print_metrics(ls_model2, X_train, y_train_unlabeled, X_test, y_test)"
   ]
  },
  {
   "cell_type": "markdown",
   "id": "cf2dd73f",
   "metadata": {},
   "source": [
    "### SGD supervised Model"
   ]
  },
  {
   "cell_type": "code",
   "execution_count": null,
   "id": "e7d4c36c",
   "metadata": {},
   "outputs": [],
   "source": [
    "# SGD Model trained on labeled 20% part of the dataset\n",
    "eval_and_print_metrics(sgd_model, X_20, y_20, X_test, y_test)"
   ]
  },
  {
   "cell_type": "code",
   "execution_count": null,
   "id": "7007b82b",
   "metadata": {},
   "outputs": [],
   "source": [
    "# SGD Model trained on the full dataset\n",
    "eval_and_print_metrics(sgd_model, X_train, y_train, X_test, y_test)"
   ]
  },
  {
   "cell_type": "code",
   "execution_count": null,
   "id": "ba3e2f9b",
   "metadata": {},
   "outputs": [],
   "source": []
  },
  {
   "cell_type": "code",
   "execution_count": null,
   "id": "7e33b130",
   "metadata": {},
   "outputs": [],
   "source": []
  },
  {
   "cell_type": "code",
   "execution_count": null,
   "id": "d6d22ab9",
   "metadata": {},
   "outputs": [],
   "source": []
  }
 ],
 "metadata": {
  "kernelspec": {
   "display_name": "Python 3 (ipykernel)",
   "language": "python",
   "name": "python3"
  },
  "language_info": {
   "codemirror_mode": {
    "name": "ipython",
    "version": 3
   },
   "file_extension": ".py",
   "mimetype": "text/x-python",
   "name": "python",
   "nbconvert_exporter": "python",
   "pygments_lexer": "ipython3",
   "version": "3.8.12"
  },
  "papermill": {
   "default_parameters": {},
   "duration": 259.819883,
   "end_time": "2022-02-26T15:49:13.523401",
   "environment_variables": {},
   "exception": null,
   "input_path": "__notebook__.ipynb",
   "output_path": "__notebook__.ipynb",
   "parameters": {},
   "start_time": "2022-02-26T15:44:53.703518",
   "version": "2.3.3"
  }
 },
 "nbformat": 4,
 "nbformat_minor": 5
}
